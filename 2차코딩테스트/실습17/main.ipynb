{
 "cells": [
  {
   "cell_type": "code",
   "execution_count": null,
   "id": "ede2553a",
   "metadata": {},
   "outputs": [],
   "source": [
    "import numpy as np\n",
    "import pandas as pd\n",
    "from scipy import stats\n",
    "from statistics import variance, stdev\n",
    "import os\n",
    "\n",
    "# 주문 데이터 읽어오기 \n",
    "current_dir = os.getcwd()\n",
    "data_path = os.path.join(current_dir, \"data\", \"sales.csv\")\n",
    "sales = pd.read_csv(data_path)\n",
    "\n",
    "# 지시사항을 참고하여 코드를 작성하세요.\n",
    "\n",
    "\n",
    "\n",
    "\n",
    "\n",
    "\n",
    "\n",
    "\n",
    "\n",
    "# 아래는 출력을 확인하기 위한 코드입니다.\n",
    "print(\"---판매액 현황 보고서---\")\n",
    "print(\"평균: \", sales_mean)\n",
    "print(\"중앙값: \", sales_median)\n",
    "print(\"최빈값: \", sales_mode) \n",
    "print(\"표준편차: \", sales_std)\n",
    "print(\"30분위: \", q30)\n",
    "print(\"70분위: \", q70)\n"
   ]
  }
 ],
 "metadata": {
  "kernelspec": {
   "display_name": "venv_codingtest",
   "language": "python",
   "name": "python3"
  },
  "language_info": {
   "codemirror_mode": {
    "name": "ipython",
    "version": 3
   },
   "file_extension": ".py",
   "mimetype": "text/x-python",
   "name": "python",
   "nbconvert_exporter": "python",
   "pygments_lexer": "ipython3",
   "version": "3.9.22"
  }
 },
 "nbformat": 4,
 "nbformat_minor": 5
}
