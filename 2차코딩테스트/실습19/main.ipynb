{
 "cells": [
  {
   "cell_type": "code",
   "execution_count": null,
   "metadata": {},
   "outputs": [],
   "source": [
    "import pandas as pd\n",
    "import itertools\n",
    "from itertools import *\n",
    "import os\n",
    "\n",
    "current_dir = os.getcwd()\n",
    "data_path = os.path.join(current_dir, \"data\", \"student_height.csv\")\n",
    "# 지시사항을 참고하여 코드를 작성하세요\n",
    "\n",
    "\n",
    "\n",
    "\n",
    "\n",
    "\n",
    "# 계산 결과를 확인하기 위한 코드입니다.\n",
    "print(ans)"
   ]
  }
 ],
 "metadata": {
  "kernelspec": {
   "display_name": "venv_test2",
   "language": "python",
   "name": "python3"
  },
  "language_info": {
   "codemirror_mode": {
    "name": "ipython",
    "version": 3
   },
   "file_extension": ".py",
   "mimetype": "text/x-python",
   "name": "python",
   "nbconvert_exporter": "python",
   "pygments_lexer": "ipython3",
   "version": "3.9.22"
  }
 },
 "nbformat": 4,
 "nbformat_minor": 2
}
