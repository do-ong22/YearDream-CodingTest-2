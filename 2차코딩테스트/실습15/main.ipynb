{
 "cells": [
  {
   "cell_type": "code",
   "execution_count": null,
   "metadata": {},
   "outputs": [],
   "source": [
    "import pandas as pd\n",
    "import matplotlib.pyplot as plt\n",
    "import seaborn as sns\n",
    "import PIL\n",
    "from PIL import Image\n",
    "import os\n",
    "import platform\n",
    "import matplotlib as mpl\n",
    "import matplotlib.font_manager as fm\n",
    "\n",
    "# 운영체제별 폰트 설정\n",
    "system = platform.system()\n",
    "if system == 'Darwin':  # macOS\n",
    "    font_family = 'AppleGothic'  # 맥용 기본 한글 폰트\n",
    "else :  # Windows\n",
    "    font_family = 'Malgun Gothic'  # 윈도우용 기본 한글 폰트\n",
    "\n",
    "plt.rc('axes', unicode_minus=False)\n",
    "plt.rcParams['axes.unicode_minus'] = False\n",
    "plt.rcParams['font.family'] = font_family\n",
    "\n",
    "# 데이터프레임 df에 서울시 인구수 데이터 저장\n",
    "current_dir = os.getcwd()\n",
    "data_path = os.path.join(current_dir, \"data\", \"seoul_population.csv\")\n",
    "df = pd.read_csv(data_path)\n",
    "\n",
    "# 지역구와 지역 구분이 mapping되어있는 dictionary\n",
    "area = {\"은평구\": \"서북권\", \"서대문구\": \"서북권\", \"마포구\": \"서북권\", \"종로구\": \"도심권\", \"중구\": \"도심권\", \"용산구\": \"도심권\", \"동대문구\": \"동북권\", \"성동구\": \"동북권\", \"성북구\": \"동북권\", \"중랑구\": \"동북권\", \"광진구\": \"동북권\", \"강북구\": \"동북권\", \"도봉구\": \"동북권\", \"노원구\": \"동북권\", \"강서구\": \"강서\", \"양천구\": \"강서\", \"구로구\": \"강서\", \"영등포구\": \"영등포\", \"구로구\": \"영등포\", \"금천구\": \"영등포\", \"동작구\": \"영등포\", \"관악구\": \"영등포\", \"강남구\": \"동남권(강남)\", \"서초구\": \"동남권(강남)\", \"송파구\": \"동남권(강남)\", \"강동구\": \"동남권(강남)\"}\n",
    "\n",
    "# 지시사항을 참고하여 코드를 작성하세요\n",
    "# Hint: df.index를 통해 데이터프레임 df의 index를 불러와 그래프를 그리는데 사용할 수 있습니다\n",
    "\n",
    "\n",
    "\n",
    "\n",
    "\n",
    "\n",
    "# 올바르게 지시사항을 수행했는지 확인해보세요\n",
    "print(df2)"
   ]
  }
 ],
 "metadata": {
  "kernelspec": {
   "display_name": "Python 3",
   "language": "python",
   "name": "python3"
  },
  "language_info": {
   "codemirror_mode": {
    "name": "ipython",
    "version": 3
   },
   "file_extension": ".py",
   "mimetype": "text/x-python",
   "name": "python",
   "nbconvert_exporter": "python",
   "pygments_lexer": "ipython3",
   "version": "3.11.10"
  }
 },
 "nbformat": 4,
 "nbformat_minor": 2
}
