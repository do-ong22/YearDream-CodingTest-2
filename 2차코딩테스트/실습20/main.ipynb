{
 "cells": [
  {
   "cell_type": "code",
   "execution_count": null,
   "id": "9a8f6fba",
   "metadata": {},
   "outputs": [],
   "source": [
    "import scipy.stats\n",
    "from scipy.stats import *\n",
    "\n",
    "avg = 5000  # 평균 수명\n",
    "sigma = 70  # 표준편차\n",
    "\n",
    "# 지시사항을 참고하여 코드를 작성하세요.\n",
    "\n",
    "\n",
    "\n",
    "\n",
    "\n",
    "# 계산 결과를 확인하기 위한 코드입니다.\n",
    "print(\"ans1: \", ans1)\n",
    "print(\"ans2: \", ans2)"
   ]
  }
 ],
 "metadata": {
  "kernelspec": {
   "display_name": "venv_codingtest",
   "language": "python",
   "name": "python3"
  },
  "language_info": {
   "codemirror_mode": {
    "name": "ipython",
    "version": 3
   },
   "file_extension": ".py",
   "mimetype": "text/x-python",
   "name": "python",
   "nbconvert_exporter": "python",
   "pygments_lexer": "ipython3",
   "version": "3.9.22"
  }
 },
 "nbformat": 4,
 "nbformat_minor": 5
}
