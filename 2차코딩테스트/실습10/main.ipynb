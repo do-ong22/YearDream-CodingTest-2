{
 "cells": [
  {
   "cell_type": "code",
   "execution_count": null,
   "id": "ab38dac4",
   "metadata": {},
   "outputs": [],
   "source": [
    "# 지시사항을 참고하여 코드를 작성하세요\n",
    "\n"
   ]
  }
 ],
 "metadata": {
  "language_info": {
   "name": "python"
  }
 },
 "nbformat": 4,
 "nbformat_minor": 5
}
