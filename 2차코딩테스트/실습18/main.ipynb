{
 "cells": [
  {
   "cell_type": "code",
   "execution_count": null,
   "metadata": {},
   "outputs": [],
   "source": [
    "import numpy as np\n",
    "import pandas as pd\n",
    "from scipy.stats import norm\n",
    "\n",
    "\n",
    "# 모평균과 모표준편차의 입력\n",
    "m = int(input())\n",
    "s = int(input())\n",
    "\n",
    "# 주문 데이터 읽어오기 \n",
    "current_dir = os.getcwd()\n",
    "data_path = os.path.join(current_dir, \"data\", \"sales.csv\")\n",
    "sales = pd.read_csv(data_path)\n",
    "\n",
    "# ztest 함수 정의\n",
    "def ztest(stat, mu, sigma):\n",
    "    # 지시사항: 데이터, 모평균, 모표준편차를 넣으면 p-value 를 반환하도록 함수를 작성하세요.\n",
    "    \n",
    "\n",
    "\n",
    "# ztest 결과 확인하기 \n",
    "mu_test = None\n",
    "\n",
    "# 출력을 확인하기 위한 코드입니다. \n",
    "print(mu_test)"
   ]
  }
 ],
 "metadata": {
  "kernelspec": {
   "display_name": "venv_codingtest",
   "language": "python",
   "name": "python3"
  },
  "language_info": {
   "codemirror_mode": {
    "name": "ipython",
    "version": 3
   },
   "file_extension": ".py",
   "mimetype": "text/x-python",
   "name": "python",
   "nbconvert_exporter": "python",
   "pygments_lexer": "ipython3",
   "version": "3.9.22"
  }
 },
 "nbformat": 4,
 "nbformat_minor": 2
}
