{
 "cells": [
  {
   "cell_type": "code",
   "execution_count": null,
   "id": "f6a5ed9a",
   "metadata": {},
   "outputs": [],
   "source": [
    "import pandas as pd\n",
    "import os\n",
    "\n",
    "# 데이터프레임 df에 서울시 인구수 데이터 저장\n",
    "current_dir = os.getcwd()\n",
    "data_path = os.path.join(current_dir, \"data\", \"seoul_population.csv\")\n",
    "df=pd.read_csv(data_path)\n",
    "\n",
    "# 지시사항을 참고하여 코드를 작성하세요.\n",
    "\n",
    "\n",
    "\n",
    "\n",
    "\n",
    "\n",
    "# 실행 버튼을 눌러 올바르게 지시사항을 수행했는지 확인해 보세요\n",
    "print(df.head())"
   ]
  }
 ],
 "metadata": {
  "kernelspec": {
   "display_name": "venv_codingtest",
   "language": "python",
   "name": "python3"
  },
  "language_info": {
   "codemirror_mode": {
    "name": "ipython",
    "version": 3
   },
   "file_extension": ".py",
   "mimetype": "text/x-python",
   "name": "python",
   "nbconvert_exporter": "python",
   "pygments_lexer": "ipython3",
   "version": "3.9.22"
  }
 },
 "nbformat": 4,
 "nbformat_minor": 5
}
