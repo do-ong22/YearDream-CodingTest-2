{
 "cells": [
  {
   "cell_type": "code",
   "execution_count": null,
   "id": "e04570ab",
   "metadata": {},
   "outputs": [],
   "source": [
    "import pandas as pd\n",
    "import matplotlib.pyplot as plt\n",
    "import seaborn as sns\n",
    "from PIL import Image\n",
    "import platform\n",
    "import os\n",
    "# 운영체제별 폰트 설정\n",
    "system = platform.system()\n",
    "if system == 'Darwin':  # macOS\n",
    "    font_family = 'AppleGothic'  # 맥용 기본 한글 폰트\n",
    "else :  # Windows\n",
    "    font_family = 'Malgun Gothic'  # 윈도우용 기본 한글 폰트\n",
    "\n",
    "plt.rc('axes', unicode_minus=False)\n",
    "plt.rcParams['axes.unicode_minus'] = False\n",
    "plt.rcParams['font.family'] = font_family \n",
    "\n",
    "# 데이터프레임 df에 서울시 인구수 데이터 저장\n",
    "current_dir = os.getcwd()\n",
    "data_path = os.path.join(current_dir, \"data\", \"seoul_population_marriage.csv\")\n",
    "df = pd.read_csv(data_path)\n",
    "# 지시사항1: 아래에 코드를 작성해주세요\n",
    "\n",
    "\n",
    "\n",
    "#######################################\n",
    "\n",
    "# 그래프 확인 및 채점을 위한 코드입니다\n",
    "# 수정시 정상적으로 채점이 진행되지 않습니다\n",
    "plt.savefig(\"plot1.png\")\n",
    "\n",
    "# 지시사항2: 아래에 코드를 작성해주세요\n",
    "\n",
    "\n",
    "\n",
    "#######################################\n",
    "\n",
    "# 그래프 확인 및 채점을 위한 코드입니다\n",
    "# 수정시 정상적으로 채점이 진행되지 않습니다\n",
    "plt.savefig(\"plot2.png\")\n",
    "\n",
    "# 지시사항3: 아래에 코드를 작성해주세요\n",
    "\n",
    "\n",
    "#######################################\n",
    "\n",
    "# 그래프 확인 및 채점을 위한 코드입니다\n",
    "# 수정시 정상적으로 채점이 진행되지 않습니다\n",
    "plt.savefig(\"plot3.png\")\n"
   ]
  }
 ],
 "metadata": {
  "kernelspec": {
   "display_name": "venv_codingtest",
   "language": "python",
   "name": "python3"
  },
  "language_info": {
   "codemirror_mode": {
    "name": "ipython",
    "version": 3
   },
   "file_extension": ".py",
   "mimetype": "text/x-python",
   "name": "python",
   "nbconvert_exporter": "python",
   "pygments_lexer": "ipython3",
   "version": "3.9.22"
  }
 },
 "nbformat": 4,
 "nbformat_minor": 5
}
