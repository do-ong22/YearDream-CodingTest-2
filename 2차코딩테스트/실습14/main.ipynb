{
 "cells": [
  {
   "cell_type": "code",
   "execution_count": null,
   "id": "c551f067",
   "metadata": {},
   "outputs": [],
   "source": [
    "import pandas as pd\n",
    "import os\n",
    "\n",
    "# 데이터프레임 df1에 서울시 인구수 데이터, df2에 서울시 혼인/이혼 데이터 저장\n",
    "current_dir = os.getcwd()\n",
    "data_path1 = os.path.join(current_dir, \"data\", \"seoul_population.csv\")\n",
    "data_path2 = os.path.join(current_dir, \"data\", \"seoul_marriage_divorce_data.csv\")\n",
    "\n",
    "df1 = pd.read_csv(data_path1)\n",
    "df2 = pd.read_csv(data_path2)\n",
    "\n",
    "# 지시사항을 참고하여 코드를 작성하세요.\n",
    "\n",
    "\n",
    "\n",
    "\n",
    "\n",
    "# 올바르게 지시사항을 수행했는지 확인해 보세요\n",
    "print(ans_df.head())"
   ]
  }
 ],
 "metadata": {
  "kernelspec": {
   "display_name": "Python 3",
   "language": "python",
   "name": "python3"
  },
  "language_info": {
   "name": "python",
   "version": "3.12.9"
  }
 },
 "nbformat": 4,
 "nbformat_minor": 5
}
